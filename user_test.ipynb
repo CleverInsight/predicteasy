{
 "cells": [
  {
   "cell_type": "code",
   "execution_count": 1,
   "metadata": {},
   "outputs": [
    {
     "data": {
      "text/plain": [
       "True"
      ]
     },
     "execution_count": 1,
     "metadata": {},
     "output_type": "execute_result"
    }
   ],
   "source": [
    "# Import necessary libraries\n",
    "import os\n",
    "import requests\n",
    "from dotenv import load_dotenv\n",
    "import pandas as pd\n",
    "from pprint import pprint\n",
    "from predicteasy import PredictEasyClient"
   ]
  },
  {
   "cell_type": "code",
   "execution_count": 2,
   "metadata": {},
   "outputs": [],
   "source": [
    "# Load environment variables\n",
    "load_dotenv()\n",
    "\n",
    "# Initialize PredictEasyClient (Get Auth Key and Auth Secret from PE Dev Profile)\n",
    "auth_key = \"your_auth_key\"\n",
    "auth_secret = \"your_auth_secret\"\n",
    "\n",
    "client = PredictEasyClient(auth_key=auth_key, auth_secret=auth_secret)"
   ]
  },
  {
   "cell_type": "markdown",
   "metadata": {},
   "source": [
    "### Datasources"
   ]
  },
  {
   "cell_type": "code",
   "execution_count": 8,
   "metadata": {},
   "outputs": [
    {
     "name": "stdout",
     "output_type": "stream",
     "text": [
      "[{'_id': '660110b3124498bbe1ca2feb',\n",
      "  'createdBy': '65d5bd92f35905f9407ee627',\n",
      "  'created_at': '2024-03-25T05:50:43.590000',\n",
      "  'description': 'Individual medical costs billed by Health Insurance',\n",
      "  'meta': 'https://cdn-predicteasy-assets.s3.ap-south-1.amazonaws.com/prod/dataset-registry/660110b3124498bbe1ca2feb/meta.json',\n",
      "  'tags': ['Finances'],\n",
      "  'title': 'Medical Insurance',\n",
      "  'updated_at': '2024-03-25T05:50:43.926000'},\n",
      " {'_id': '660111944fb40f60956723e4',\n",
      "  'createdBy': '65d5bd92f35905f9407ee627',\n",
      "  'created_at': '2024-03-25T05:54:28.490000',\n",
      "  'description': 'Prediction of House price unit area',\n",
      "  'meta': 'https://cdn-predicteasy-assets.s3.ap-south-1.amazonaws.com/prod/dataset-registry/660111944fb40f60956723e4/meta.json',\n",
      "  'tags': ['Finances'],\n",
      "  'title': 'Real Estate',\n",
      "  'updated_at': '2024-03-25T05:54:28.810000'},\n",
      " {'_id': '660112e6e67c9ae44988a1e0',\n",
      "  'createdBy': '65d5bd92f35905f9407ee627',\n",
      "  'created_at': '2024-03-25T06:00:06.711000',\n",
      "  'description': 'Predict House Price',\n",
      "  'meta': 'https://cdn-predicteasy-assets.s3.ap-south-1.amazonaws.com/prod/dataset-registry/660112e6e67c9ae44988a1e0/meta.json',\n",
      "  'tags': ['Finances'],\n",
      "  'title': 'Insurance - Truncated',\n",
      "  'updated_at': '2024-03-25T06:00:07.022000'},\n",
      " {'_id': '660116e94fb40f60956723e5',\n",
      "  'createdBy': '65d5bd92f35905f9407ee627',\n",
      "  'created_at': '2024-03-25T06:17:13.465000',\n",
      "  'description': 'Predict Med Insurance',\n",
      "  'meta': 'https://cdn-predicteasy-assets.s3.ap-south-1.amazonaws.com/prod/dataset-registry/660116e94fb40f60956723e5/meta.json',\n",
      "  'tags': ['Finances'],\n",
      "  'title': 'Insurance - Truncated2',\n",
      "  'updated_at': '2024-03-25T06:17:13.763000'},\n",
      " {'_id': '660254da4fb40f609567240d',\n",
      "  'createdBy': '65d5bd92f35905f9407ee627',\n",
      "  'created_at': '2024-03-26T04:53:46.694000',\n",
      "  'description': 'Online Retail',\n",
      "  'meta': 'https://cdn-predicteasy-assets.s3.ap-south-1.amazonaws.com/prod/dataset-registry/660254da4fb40f609567240d/meta.json',\n",
      "  'tags': ['Sales & Marketing'],\n",
      "  'title': 'Retail',\n",
      "  'updated_at': '2024-03-26T04:53:48.923000'},\n",
      " {'_id': '66026cd3124498bbe1ca302e',\n",
      "  'createdBy': '65d5bd92f35905f9407ee627',\n",
      "  'created_at': '2024-03-26T06:36:03.498000',\n",
      "  'description': 'Ad Click',\n",
      "  'meta': 'https://cdn-predicteasy-assets.s3.ap-south-1.amazonaws.com/prod/dataset-registry/66026cd3124498bbe1ca302e/meta.json',\n",
      "  'tags': ['Sales & Marketing'],\n",
      "  'title': 'Ad Click',\n",
      "  'updated_at': '2024-03-26T06:36:03.810000'},\n",
      " {'_id': '6602ac5ec83f2a2d363ea6a3',\n",
      "  'createdBy': '65d5bd92f35905f9407ee627',\n",
      "  'created_at': '2024-03-26T11:07:10.035000',\n",
      "  'description': 'Ad click',\n",
      "  'meta': 'https://cdn-predicteasy-assets.s3.ap-south-1.amazonaws.com/prod/dataset-registry/6602ac5ec83f2a2d363ea6a3/meta.json',\n",
      "  'tags': ['Sales & Marketing'],\n",
      "  'title': 'ad click',\n",
      "  'updated_at': '2024-03-26T11:07:10.486000'},\n",
      " {'_id': '66038216b4c03305fb6443bb',\n",
      "  'createdBy': '65d5bd92f35905f9407ee627',\n",
      "  'created_at': '2024-03-27T02:19:02.451000',\n",
      "  'description': 'Online Retail',\n",
      "  'meta': 'https://cdn-predicteasy-assets.s3.ap-south-1.amazonaws.com/prod/dataset-registry/66038216b4c03305fb6443bb/meta.json',\n",
      "  'tags': ['Sales & Marketing'],\n",
      "  'title': 'Online Retail',\n",
      "  'updated_at': '2024-03-27T02:19:02.872000'},\n",
      " {'_id': '6603c239e67c9ae44988a237',\n",
      "  'createdBy': '65d5bd92f35905f9407ee627',\n",
      "  'created_at': '2024-03-27T06:52:41.595000',\n",
      "  'description': 'CLV LR',\n",
      "  'meta': 'https://cdn-predicteasy-assets.s3.ap-south-1.amazonaws.com/prod/dataset-registry/6603c239e67c9ae44988a237/meta.json',\n",
      "  'tags': ['Sales & Marketing'],\n",
      "  'title': 'CLV LR',\n",
      "  'updated_at': '2024-03-27T06:52:42.050000'},\n",
      " {'_id': '66050b89a276171674ed6774',\n",
      "  'createdBy': '65d5bd92f35905f9407ee627',\n",
      "  'created_at': '2024-03-28T06:17:45.873000',\n",
      "  'description': 'Customer Segmentation',\n",
      "  'meta': 'https://cdn-predicteasy-assets.s3.ap-south-1.amazonaws.com/prod/dataset-registry/66050b89a276171674ed6774/meta.json',\n",
      "  'tags': ['Sales & Marketing'],\n",
      "  'title': 'Customer Segmentation',\n",
      "  'updated_at': '2024-03-28T06:17:46.436000'},\n",
      " {'_id': '66050f81e67c9ae44988a242',\n",
      "  'createdBy': '65d5bd92f35905f9407ee627',\n",
      "  'created_at': '2024-03-28T06:34:41.103000',\n",
      "  'description': 'Customer Segmentation-clustering',\n",
      "  'meta': 'https://cdn-predicteasy-assets.s3.ap-south-1.amazonaws.com/prod/dataset-registry/66050f81e67c9ae44988a242/meta.json',\n",
      "  'tags': ['Sales & Marketing'],\n",
      "  'title': 'Customer Segmentation - Clustering',\n",
      "  'updated_at': '2024-03-28T06:34:41.600000'},\n",
      " {'_id': '660534ec4fb40f6095672474',\n",
      "  'createdBy': '65d5bd92f35905f9407ee627',\n",
      "  'created_at': '2024-03-28T09:14:20.623000',\n",
      "  'description': 'Ad click dataset',\n",
      "  'meta': 'https://cdn-predicteasy-assets.s3.ap-south-1.amazonaws.com/prod/dataset-registry/660534ec4fb40f6095672474/meta.json',\n",
      "  'tags': ['Sales & Marketing'],\n",
      "  'title': 'Ad click complete',\n",
      "  'updated_at': '2024-03-28T09:14:21.026000'},\n",
      " {'_id': '664f933063fa2d5d20f56f9b',\n",
      "  'createdBy': '65d5bd92f35905f9407ee627',\n",
      "  'created_at': '2024-05-23T19:04:16.667000',\n",
      "  'description': 't',\n",
      "  'meta': 'https://cdn-predicteasy-assets.s3.ap-south-1.amazonaws.com/prod/dataset-registry/664f933063fa2d5d20f56f9b/meta.json',\n",
      "  'tags': ['Research & Development'],\n",
      "  'title': 'test',\n",
      "  'updated_at': '2024-05-23T19:04:17.085000'},\n",
      " {'_id': '665560a80b9c5dd453e4edc3',\n",
      "  'createdBy': '65d5bd92f35905f9407ee627',\n",
      "  'created_at': '2024-05-28T04:42:16.158000',\n",
      "  'description': 'Checking Creation of Datasource',\n",
      "  'meta': 'https://cdn-predicteasy-assets.s3.ap-south-1.amazonaws.com/local/dataset-registry/665560a80b9c5dd453e4edc3/meta.json',\n",
      "  'tags': ['Research & Development'],\n",
      "  'title': 'CreationCheck',\n",
      "  'updated_at': '2024-05-28T04:42:16.503000'},\n",
      " {'_id': '6655b17a0b9c5dd453e4edc6',\n",
      "  'createdBy': '65d5bd92f35905f9407ee627',\n",
      "  'created_at': '2024-05-28T10:27:06.480000',\n",
      "  'description': 'Sample Description',\n",
      "  'meta': 'https://cdn-predicteasy-assets.s3.ap-south-1.amazonaws.com/local/dataset-registry/6655b17a0b9c5dd453e4edc6/meta.json',\n",
      "  'tags': ['CRM'],\n",
      "  'title': 'Sample Title',\n",
      "  'updated_at': '2024-05-28T10:27:06.845000'},\n",
      " {'_id': '665db7fee06c597f7d3ac5b0',\n",
      "  'createdBy': '65d5bd92f35905f9407ee627',\n",
      "  'created_at': '2024-06-03T12:33:02.810000',\n",
      "  'description': 'Sample Description',\n",
      "  'meta': 'https://cdn-predicteasy-assets.s3.ap-south-1.amazonaws.com/local/dataset-registry/665db7fee06c597f7d3ac5b0/meta.json',\n",
      "  'tags': ['CRM'],\n",
      "  'title': 'Sample Title',\n",
      "  'updated_at': '2024-06-03T12:33:03.552000'}]\n"
     ]
    }
   ],
   "source": [
    "# List all datasources\n",
    "list_data = client.datasource.listDatasource()\n",
    "pprint(list_data)"
   ]
  },
  {
   "cell_type": "code",
   "execution_count": 9,
   "metadata": {},
   "outputs": [],
   "source": [
    "# Fetch a specific datasource by ID\n",
    "my_data = client.datasource.getDatasource(\"660254da4fb40f609567240d\")"
   ]
  },
  {
   "cell_type": "code",
   "execution_count": 10,
   "metadata": {},
   "outputs": [
    {
     "data": {
      "text/html": [
       "<div>\n",
       "<style scoped>\n",
       "    .dataframe tbody tr th:only-of-type {\n",
       "        vertical-align: middle;\n",
       "    }\n",
       "\n",
       "    .dataframe tbody tr th {\n",
       "        vertical-align: top;\n",
       "    }\n",
       "\n",
       "    .dataframe thead th {\n",
       "        text-align: right;\n",
       "    }\n",
       "</style>\n",
       "<table border=\"1\" class=\"dataframe\">\n",
       "  <thead>\n",
       "    <tr style=\"text-align: right;\">\n",
       "      <th></th>\n",
       "      <th>quantity</th>\n",
       "      <th>unitprice</th>\n",
       "      <th>customerid</th>\n",
       "    </tr>\n",
       "  </thead>\n",
       "  <tbody>\n",
       "    <tr>\n",
       "      <th>count</th>\n",
       "      <td>541909.000000</td>\n",
       "      <td>541909.000000</td>\n",
       "      <td>406829.000000</td>\n",
       "    </tr>\n",
       "    <tr>\n",
       "      <th>mean</th>\n",
       "      <td>9.552250</td>\n",
       "      <td>4.611114</td>\n",
       "      <td>15287.690570</td>\n",
       "    </tr>\n",
       "    <tr>\n",
       "      <th>std</th>\n",
       "      <td>218.081158</td>\n",
       "      <td>96.759853</td>\n",
       "      <td>1713.600303</td>\n",
       "    </tr>\n",
       "    <tr>\n",
       "      <th>min</th>\n",
       "      <td>-80995.000000</td>\n",
       "      <td>-11062.060000</td>\n",
       "      <td>12346.000000</td>\n",
       "    </tr>\n",
       "    <tr>\n",
       "      <th>25%</th>\n",
       "      <td>1.000000</td>\n",
       "      <td>1.250000</td>\n",
       "      <td>13953.000000</td>\n",
       "    </tr>\n",
       "    <tr>\n",
       "      <th>50%</th>\n",
       "      <td>3.000000</td>\n",
       "      <td>2.080000</td>\n",
       "      <td>15152.000000</td>\n",
       "    </tr>\n",
       "    <tr>\n",
       "      <th>75%</th>\n",
       "      <td>10.000000</td>\n",
       "      <td>4.130000</td>\n",
       "      <td>16791.000000</td>\n",
       "    </tr>\n",
       "    <tr>\n",
       "      <th>max</th>\n",
       "      <td>80995.000000</td>\n",
       "      <td>38970.000000</td>\n",
       "      <td>18287.000000</td>\n",
       "    </tr>\n",
       "  </tbody>\n",
       "</table>\n",
       "</div>"
      ],
      "text/plain": [
       "            quantity      unitprice     customerid\n",
       "count  541909.000000  541909.000000  406829.000000\n",
       "mean        9.552250       4.611114   15287.690570\n",
       "std       218.081158      96.759853    1713.600303\n",
       "min    -80995.000000  -11062.060000   12346.000000\n",
       "25%         1.000000       1.250000   13953.000000\n",
       "50%         3.000000       2.080000   15152.000000\n",
       "75%        10.000000       4.130000   16791.000000\n",
       "max     80995.000000   38970.000000   18287.000000"
      ]
     },
     "execution_count": 10,
     "metadata": {},
     "output_type": "execute_result"
    }
   ],
   "source": [
    "# The description of the fetched datasource\n",
    "my_data.describe()"
   ]
  },
  {
   "cell_type": "code",
   "execution_count": 6,
   "metadata": {},
   "outputs": [
    {
     "data": {
      "text/html": [
       "<div>\n",
       "<style scoped>\n",
       "    .dataframe tbody tr th:only-of-type {\n",
       "        vertical-align: middle;\n",
       "    }\n",
       "\n",
       "    .dataframe tbody tr th {\n",
       "        vertical-align: top;\n",
       "    }\n",
       "\n",
       "    .dataframe thead th {\n",
       "        text-align: right;\n",
       "    }\n",
       "</style>\n",
       "<table border=\"1\" class=\"dataframe\">\n",
       "  <thead>\n",
       "    <tr style=\"text-align: right;\">\n",
       "      <th></th>\n",
       "      <th>invoiceno</th>\n",
       "      <th>stockcode</th>\n",
       "      <th>description</th>\n",
       "      <th>quantity</th>\n",
       "      <th>invoicedate</th>\n",
       "      <th>unitprice</th>\n",
       "      <th>customerid</th>\n",
       "      <th>country</th>\n",
       "    </tr>\n",
       "  </thead>\n",
       "  <tbody>\n",
       "    <tr>\n",
       "      <th>0</th>\n",
       "      <td>536365</td>\n",
       "      <td>85123A</td>\n",
       "      <td>WHITE HANGING HEART T-LIGHT HOLDER</td>\n",
       "      <td>6</td>\n",
       "      <td>01-12-2010 08:26</td>\n",
       "      <td>2.55</td>\n",
       "      <td>17850.0</td>\n",
       "      <td>United Kingdom</td>\n",
       "    </tr>\n",
       "    <tr>\n",
       "      <th>1</th>\n",
       "      <td>536365</td>\n",
       "      <td>71053</td>\n",
       "      <td>WHITE METAL LANTERN</td>\n",
       "      <td>6</td>\n",
       "      <td>01-12-2010 08:26</td>\n",
       "      <td>3.39</td>\n",
       "      <td>17850.0</td>\n",
       "      <td>United Kingdom</td>\n",
       "    </tr>\n",
       "    <tr>\n",
       "      <th>2</th>\n",
       "      <td>536365</td>\n",
       "      <td>84406B</td>\n",
       "      <td>CREAM CUPID HEARTS COAT HANGER</td>\n",
       "      <td>8</td>\n",
       "      <td>01-12-2010 08:26</td>\n",
       "      <td>2.75</td>\n",
       "      <td>17850.0</td>\n",
       "      <td>United Kingdom</td>\n",
       "    </tr>\n",
       "    <tr>\n",
       "      <th>3</th>\n",
       "      <td>536365</td>\n",
       "      <td>84029G</td>\n",
       "      <td>KNITTED UNION FLAG HOT WATER BOTTLE</td>\n",
       "      <td>6</td>\n",
       "      <td>01-12-2010 08:26</td>\n",
       "      <td>3.39</td>\n",
       "      <td>17850.0</td>\n",
       "      <td>United Kingdom</td>\n",
       "    </tr>\n",
       "    <tr>\n",
       "      <th>4</th>\n",
       "      <td>536365</td>\n",
       "      <td>84029E</td>\n",
       "      <td>RED WOOLLY HOTTIE WHITE HEART.</td>\n",
       "      <td>6</td>\n",
       "      <td>01-12-2010 08:26</td>\n",
       "      <td>3.39</td>\n",
       "      <td>17850.0</td>\n",
       "      <td>United Kingdom</td>\n",
       "    </tr>\n",
       "  </tbody>\n",
       "</table>\n",
       "</div>"
      ],
      "text/plain": [
       "  invoiceno stockcode                          description  quantity  \\\n",
       "0    536365    85123A   WHITE HANGING HEART T-LIGHT HOLDER         6   \n",
       "1    536365     71053                  WHITE METAL LANTERN         6   \n",
       "2    536365    84406B       CREAM CUPID HEARTS COAT HANGER         8   \n",
       "3    536365    84029G  KNITTED UNION FLAG HOT WATER BOTTLE         6   \n",
       "4    536365    84029E       RED WOOLLY HOTTIE WHITE HEART.         6   \n",
       "\n",
       "        invoicedate  unitprice  customerid         country  \n",
       "0  01-12-2010 08:26       2.55     17850.0  United Kingdom  \n",
       "1  01-12-2010 08:26       3.39     17850.0  United Kingdom  \n",
       "2  01-12-2010 08:26       2.75     17850.0  United Kingdom  \n",
       "3  01-12-2010 08:26       3.39     17850.0  United Kingdom  \n",
       "4  01-12-2010 08:26       3.39     17850.0  United Kingdom  "
      ]
     },
     "execution_count": 6,
     "metadata": {},
     "output_type": "execute_result"
    }
   ],
   "source": [
    "# The sample data of the fetched datasource\n",
    "my_data.sample()"
   ]
  },
  {
   "cell_type": "code",
   "execution_count": 7,
   "metadata": {},
   "outputs": [
    {
     "data": {
      "text/plain": [
       "{'_id': '660254da4fb40f609567240d',\n",
       " 'title': 'Retail',\n",
       " 'description': 'Online Retail',\n",
       " 'tags': ['Sales & Marketing'],\n",
       " 'domain': 'Retail & E-commerce',\n",
       " 'meta': 'https://cdn-predicteasy-assets.s3.ap-south-1.amazonaws.com/prod/dataset-registry/660254da4fb40f609567240d/meta.json',\n",
       " 'createdBy': '65d5bd92f35905f9407ee627',\n",
       " 'created_at': '2024-03-26T04:53:46.694000',\n",
       " 'updated_at': '2024-03-26T04:53:48.923000'}"
      ]
     },
     "execution_count": 7,
     "metadata": {},
     "output_type": "execute_result"
    }
   ],
   "source": [
    "my_data.details()"
   ]
  },
  {
   "cell_type": "code",
   "execution_count": null,
   "metadata": {},
   "outputs": [],
   "source": [
    "# Delete a datasource by ID\n",
    "response = client.datasource.deleteDatasource(\"6654349b0b9c5dd453e4edc1\")\n",
    "print(response)"
   ]
  },
  {
   "cell_type": "code",
   "execution_count": 15,
   "metadata": {},
   "outputs": [
    {
     "name": "stdout",
     "output_type": "stream",
     "text": [
      "{'status_code': 200, 'message': 'Success', 'data': {'data': '665db7fee06c597f7d3ac5b0'}}\n"
     ]
    }
   ],
   "source": [
    "# Create Datasource\n",
    "title = \"Customer Segmentation\"\n",
    "description = \"Segment Customers\"\n",
    "horizontal = ['CRM']\n",
    "vertical = \"Telecom\"\n",
    "file_path = \"C:/Users/reiyo/Downloads/Customer Segmentation.csv\"\n",
    "\n",
    "# Create a new datasource\n",
    "new_datasource = client.datasource.createDatasource(title, description, horizontal, vertical, file_path)\n",
    "print(new_datasource)\n"
   ]
  },
  {
   "cell_type": "markdown",
   "metadata": {},
   "source": [
    "### Regression"
   ]
  },
  {
   "cell_type": "code",
   "execution_count": 10,
   "metadata": {},
   "outputs": [],
   "source": [
    "regression_result = client.regression.regression(\"660d06733a718a29e51966a1\",\"Sales\", 0.2, 2, [\"invoiceno\",\"stockcode\",\"description\",\"quantity\",\"invoicedate\",\"customerid\",\"country\"], \"unitprice\")\n",
    "regression_result"
   ]
  },
  {
   "cell_type": "markdown",
   "metadata": {},
   "source": [
    "### Classification"
   ]
  },
  {
   "cell_type": "code",
   "execution_count": 11,
   "metadata": {},
   "outputs": [
    {
     "data": {
      "text/html": [
       "\n",
       "        <iframe\n",
       "            width=\"100%\"\n",
       "            height=\"600\"\n",
       "            src=\"https://sheets.predicteasy.com/reports/665da128024fce7868570c5e/665da128024fce7868570c5e\"\n",
       "            frameborder=\"0\"\n",
       "            allowfullscreen\n",
       "        ></iframe>\n",
       "        "
      ],
      "text/plain": [
       "<IPython.lib.display.IFrame at 0x1e562a34790>"
      ]
     },
     "execution_count": 11,
     "metadata": {},
     "output_type": "execute_result"
    }
   ],
   "source": [
    "classification_result = client.classification.classify(\"660534ec4fb40f6095672474\", \"Ad Click\", 0.2, 2, [\"daily_time_spen\",\"age\",\"daily_internet_\",\"male\",\"timestamp\",\"city\",\"province\",\"category\",\"month\"],\"clicked_on_ad\")\n",
    "classification_result"
   ]
  },
  {
   "cell_type": "markdown",
   "metadata": {},
   "source": [
    "### Clustering"
   ]
  },
  {
   "cell_type": "code",
   "execution_count": null,
   "metadata": {},
   "outputs": [],
   "source": [
    "clustering_result = client.clustering.cluster(\"6655b17a0b9c5dd453e4edc6\",\"Title\",[\"clv\"],3)\n",
    "clustering_result"
   ]
  }
 ],
 "metadata": {
  "kernelspec": {
   "display_name": "base",
   "language": "python",
   "name": "python3"
  },
  "language_info": {
   "codemirror_mode": {
    "name": "ipython",
    "version": 3
   },
   "file_extension": ".py",
   "mimetype": "text/x-python",
   "name": "python",
   "nbconvert_exporter": "python",
   "pygments_lexer": "ipython3",
   "version": "3.8.8"
  }
 },
 "nbformat": 4,
 "nbformat_minor": 2
}
